{
  "nbformat": 4,
  "nbformat_minor": 0,
  "metadata": {
    "colab": {
      "provenance": []
    },
    "kernelspec": {
      "name": "python3",
      "display_name": "Python 3"
    },
    "language_info": {
      "name": "python"
    }
  },
  "cells": [
    {
      "cell_type": "code",
      "source": [
        "#Polytrope EOS"
      ],
      "metadata": {
        "id": "m2sA6vcoOJR1"
      },
      "execution_count": null,
      "outputs": []
    },
    {
      "cell_type": "code",
      "source": [
        "def dmdr(r, m):\n",
        "    return 4*pi*(r**2)*epsilon(r,p)\n",
        "\n"
      ],
      "metadata": {
        "id": "OZHP4y32Lqo0"
      },
      "execution_count": null,
      "outputs": []
    },
    {
      "cell_type": "code",
      "source": [
        "def mrk4(r, m, h):\n",
        "\n",
        "  for i in range(1):\n",
        "        \"Apply Runge Kutta Formulas to find next value of y\"\n",
        "        k1 = h * dmdr(r, m)\n",
        "        k2 = h * dmdr(r + 0.5 * h, m + 0.5 * k1)\n",
        "        k3 = h * dmdr(r + 0.5 * h, m + 0.5 * k2)\n",
        "        k4 = h * dmdr(r + h, m + k3)\n",
        "\n",
        "        # Update next value of y\n",
        "        mnew = m + (1.0 / 6.0)*(k1 + 2 * k2 + 2 * k3 + k4)\n",
        "\n",
        "        # Update next value of x\n",
        "        rnew = r + h\n",
        "\n",
        "        # to print\n",
        "       # print(r,m,h,rnew,mnew)\n",
        "\n",
        "        # for next step\n",
        "        r=rnew\n",
        "        m=mnew\n",
        "\n",
        "  return mnew"
      ],
      "metadata": {
        "id": "7VbNMQOJmnnL"
      },
      "execution_count": null,
      "outputs": []
    },
    {
      "cell_type": "code",
      "source": [
        "def epsilon(r,p):\n",
        "\n",
        "  if(r==10):\n",
        "    epsilon=epsilon_c\n",
        "\n",
        "  else:\n",
        "    epsilon=(p/k)**(1.00/gamma)\n",
        "\n",
        "  return epsilon\n"
      ],
      "metadata": {
        "id": "uyhzBWwPsSrI"
      },
      "execution_count": null,
      "outputs": []
    },
    {
      "cell_type": "code",
      "source": [
        "def dpdr(r, p):\n",
        "  term1= -((G*m)/(r**2))\n",
        "  term2= epsilon(r,p)\n",
        "  term3= 1+(p/(epsilon(r,p)*(c**2)))\n",
        "  term4= 1+(((4*pi*(r**3)*p))/(m*(c**2)))\n",
        "  term5= 1-((2*G*m)/(r*(c**2)))\n",
        "  return (term1*term2*term3*term4)/term5\n"
      ],
      "metadata": {
        "id": "1MAoxx0tHzgu"
      },
      "execution_count": null,
      "outputs": []
    },
    {
      "cell_type": "code",
      "source": [
        "\n",
        "\n",
        "def rk4(r0, p0, h):\n",
        "    r=r0\n",
        "    global p\n",
        "    p=p0\n",
        "\n",
        "    global m\n",
        "\n",
        "    for i in range (1, number):\n",
        "        \"Apply Runge Kutta Formulas to find next value of y\"\n",
        "        k1 = h * dpdr(r, p)\n",
        "        k2 = h * dpdr(r + 0.5 * h, p + 0.5 * k1)\n",
        "        k3 = h * dpdr(r + 0.5 * h, p + 0.5 * k2)\n",
        "        k4 = h * dpdr(r + h, p + k3)\n",
        "\n",
        "        # Update next value of y\n",
        "        pnew = p + (1.0 / 6.0)*(k1 + 2 * k2 + 2 * k3 + k4)\n",
        "\n",
        "        # Update next value of x\n",
        "        rnew = r + h\n",
        "\n",
        "        r=rnew\n",
        "        p=pnew\n",
        "\n",
        "        epsilon_new=(pnew/k)**(1.0/gamma)\n",
        "\n",
        "        mnew=mrk4(r,m,h)\n",
        "\n",
        "        m=mnew\n",
        "\n",
        "        if isinstance(pnew, complex):\n",
        "          f=open('output.txt','a')\n",
        "          print(epsilon_c, rlast, mlast)\n",
        "          f.write(\"{} {} {} \\n\".format(epsilon_c, rlast, mlast))\n",
        "          f.close()\n",
        "\n",
        "          break\n",
        "\n",
        "\n",
        "\n",
        "\n",
        "        # to print\n",
        "\n",
        "\n",
        "        rlast=rnew\n",
        "        mlast=mnew\n",
        "\n",
        "\n",
        "\n",
        "\n",
        "    return pnew\n"
      ],
      "metadata": {
        "id": "byRdvvSmSSTf"
      },
      "execution_count": null,
      "outputs": []
    },
    {
      "cell_type": "code",
      "source": [
        "for j in range (1, 100):\n",
        "    epsilon_c= (1+j)*(10**14)\n",
        "\n",
        "    r0=10\n",
        "    pi=3.14\n",
        "    h=10\n",
        "    k= 5.38*(10**9)\n",
        "    gamma= 1.667\n",
        "    G= 6.67430*(10**(-8))\n",
        "    c= 2.99792458*10**10\n",
        "    m0= (4/3)*pi*(r0**3)\n",
        "    m=m0\n",
        "    p0= k*(epsilon_c)**gamma\n",
        "    number=2000000\n",
        "    rk4(r0,p0,h)"
      ],
      "metadata": {
        "id": "y8aDz5fKYERy",
        "colab": {
          "base_uri": "https://localhost:8080/"
        },
        "outputId": "3299e364-f807-414f-d348-4f500cb8d44a"
      },
      "execution_count": null,
      "outputs": [
        {
          "output_type": "stream",
          "name": "stdout",
          "text": [
            "200000000000000 1837410 8.613796168255007e+32\n",
            "300000000000000 1694810 1.0112138819263783e+33\n",
            "400000000000000 1597060 1.1252983445022506e+33\n",
            "500000000000000 1523050 1.2169735036133998e+33\n",
            "600000000000000 1463700 1.2930802577136933e+33\n",
            "700000000000000 1414280 1.357669859939326e+33\n",
            "800000000000000 1372030 1.4133680981409856e+33\n",
            "900000000000000 1335190 1.4619862696995387e+33\n",
            "1000000000000000 1302570 1.50483232338585e+33\n",
            "1100000000000000 1273340 1.542884464124346e+33\n",
            "1200000000000000 1246900 1.5768949014023456e+33\n",
            "1300000000000000 1222770 1.607455267595673e+33\n",
            "1400000000000000 1200600 1.635039686190974e+33\n",
            "1500000000000000 1180120 1.6600341502763804e+33\n",
            "1600000000000000 1161090 1.6827571675596497e+33\n",
            "1700000000000000 1143340 1.703474639625015e+33\n",
            "1800000000000000 1126720 1.7224108216256054e+33\n",
            "1900000000000000 1111100 1.739756549306783e+33\n",
            "2000000000000000 1096370 1.755675518313443e+33\n",
            "2100000000000000 1082440 1.7703091479929935e+33\n",
            "2200000000000000 1069240 1.7837803985928352e+33\n",
            "2300000000000000 1056700 1.7961968025607042e+33\n",
            "2400000000000000 1044770 1.8076528975122792e+33\n",
            "2500000000000000 1033380 1.8182321978470458e+33\n",
            "2600000000000000 1022500 1.8280088066761537e+33\n",
            "2700000000000000 1012090 1.8370487442251548e+33\n",
            "2800000000000000 1002110 1.8454110507658236e+33\n",
            "2900000000000000 992530 1.8531487085842478e+33\n",
            "3000000000000000 983320 1.8603094175295054e+33\n",
            "3100000000000000 974460 1.8669362512358925e+33\n",
            "3200000000000000 965920 1.8730682153771532e+33\n",
            "3300000000000000 957690 1.8787407250322702e+33\n",
            "3400000000000000 949740 1.8839860147484472e+33\n",
            "3500000000000000 942060 1.8888334924500863e+33\n",
            "3600000000000000 934630 1.8933100460605384e+33\n",
            "3700000000000000 927440 1.8974403102759518e+33\n",
            "3800000000000000 920480 1.9012468994716677e+33\n",
            "3900000000000000 913720 1.9047506117702786e+33\n",
            "4000000000000000 907170 1.907970608478536e+33\n",
            "4100000000000000 900810 1.9109245722407206e+33\n",
            "4200000000000000 894630 1.9136288469820965e+33\n",
            "4300000000000000 888620 1.9160985619954606e+33\n",
            "4400000000000000 882770 1.9183477422969524e+33\n",
            "4500000000000000 877080 1.9203894070234096e+33\n",
            "4600000000000000 871540 1.922235657352057e+33\n",
            "4700000000000000 866150 1.923897755283509e+33\n",
            "4800000000000000 860890 1.9253861943334768e+33\n",
            "4900000000000000 855760 1.9267107631923395e+33\n",
            "5000000000000000 850750 1.9278806030551875e+33\n",
            "5100000000000000 845860 1.9289042594421818e+33\n",
            "5200000000000000 841090 1.9297897290817392e+33\n",
            "5300000000000000 836430 1.9305445023927897e+33\n",
            "5400000000000000 831880 1.9311756021036877e+33\n",
            "5500000000000000 827420 1.9316896183363253e+33\n",
            "5600000000000000 823070 1.932092740634282e+33\n",
            "5700000000000000 818800 1.9323907870803037e+33\n",
            "5800000000000000 814630 1.9325892310447278e+33\n",
            "5900000000000000 810550 1.9326932255234775e+33\n",
            "6000000000000000 806550 1.9327076255287526e+33\n",
            "6100000000000000 802630 1.9326370086174365e+33\n",
            "6200000000000000 798790 1.932485693735754e+33\n",
            "6300000000000000 795030 1.9322577585619267e+33\n",
            "6400000000000000 791340 1.9319570554701242e+33\n",
            "6500000000000000 787720 1.9315872262755428e+33\n",
            "6600000000000000 784170 1.9311517158201717e+33\n",
            "6700000000000000 780680 1.9306537845274073e+33\n",
            "6800000000000000 777260 1.9300965200521533e+33\n",
            "6900000000000000 773910 1.9294828480137323e+33\n",
            "7000000000000000 770610 1.9288155419619933e+33\n",
            "7100000000000000 767370 1.928097232680017e+33\n",
            "7200000000000000 764190 1.9273304167447696e+33\n",
            "7300000000000000 761060 1.926517464512977e+33\n",
            "7400000000000000 757990 1.9256606275908767e+33\n",
            "7500000000000000 754970 1.9247620457068014e+33\n",
            "7600000000000000 752000 1.9238237532010872e+33\n",
            "7700000000000000 749080 1.9228476850289956e+33\n",
            "7800000000000000 746210 1.9218356823772234e+33\n",
            "7900000000000000 743380 1.9207894979014484e+33\n",
            "8000000000000000 740600 1.9197108006605095e+33\n",
            "8100000000000000 737860 1.9186011806633194e+33\n",
            "8200000000000000 735170 1.9174621532125804e+33\n",
            "8300000000000000 732520 1.916295162875231e+33\n",
            "8400000000000000 729910 1.915101587299546e+33\n",
            "8500000000000000 727340 1.9138827407381414e+33\n",
            "8600000000000000 724800 1.9126398773622832e+33\n",
            "8700000000000000 722310 1.9113741944210507e+33\n",
            "8800000000000000 719850 1.9100868351081806e+33\n",
            "8900000000000000 717430 1.908778891387296e+33\n",
            "9000000000000000 715040 1.9074514065430024e+33\n",
            "9100000000000000 712680 1.9061053776471202e+33\n",
            "9200000000000000 710360 1.9047417578737935e+33\n",
            "9300000000000000 708080 1.9033614586387883e+33\n",
            "9400000000000000 705820 1.9019653516379423e+33\n",
            "9500000000000000 703600 1.90055427084599e+33\n",
            "9600000000000000 701400 1.8991290142540858e+33\n",
            "9700000000000000 699240 1.8976903456764425e+33\n",
            "9800000000000000 697100 1.8962389962903945e+33\n",
            "9900000000000000 695000 1.894775666268235e+33\n",
            "10000000000000000 692920 1.893301026139414e+33\n"
          ]
        }
      ]
    },
    {
      "cell_type": "code",
      "source": [
        "import numpy  as np\n",
        "import matplotlib.pyplot as plt\n",
        "data = np.loadtxt('output.txt')\n",
        "\n",
        "\n",
        "x = data[:, 0]\n",
        "y = data[:, 2]\n",
        "plt.xlabel('$\\epsilon_{c}$ [$10^{14}$ g/$cm^{3}$]')\n",
        "plt.ylabel('mass')     # 1 solar mass = 2*10^33 grams\n",
        "plt.plot(x, y,'c--')\n",
        "plt.show()"
      ],
      "metadata": {
        "id": "5rr2KnkFEIZQ",
        "colab": {
          "base_uri": "https://localhost:8080/",
          "height": 472
        },
        "outputId": "ad6a1cb1-2b2e-4866-e313-db5b44b3f7f9"
      },
      "execution_count": null,
      "outputs": [
        {
          "output_type": "display_data",
          "data": {
            "text/plain": [
              "<Figure size 640x480 with 1 Axes>"
            ],
            "image/png": "[encoded data removed]"
          },
          "metadata": {}
        }
      ]
    },
    {
      "cell_type": "code",
      "source": [
        "import numpy  as np\n",
        "import matplotlib.pyplot as plt\n",
        "data = np.loadtxt('output.txt')\n",
        "\n",
        "\n",
        "x = data[:, 1]\n",
        "y = data[:, 2]\n",
        "plt.xlabel('Radius[km]')\n",
        "plt.ylabel('mass')         # 1 solar mass = 2*10^33 grams\n",
        "plt.plot(x, y,'k--')\n",
        "plt.show()"
      ],
      "metadata": {
        "id": "QxUh-7qOHFXD",
        "colab": {
          "base_uri": "https://localhost:8080/",
          "height": 465
        },
        "outputId": "fb5b351e-b563-4ee0-853c-a2f8d08971ef"
      },
      "execution_count": null,
      "outputs": [
        {
          "output_type": "display_data",
          "data": {
            "text/plain": [
              "<Figure size 640x480 with 1 Axes>"
            ],
            "image/png": "[encoded data removed]"
          },
          "metadata": {}
        }
      ]
    }
  ]
}